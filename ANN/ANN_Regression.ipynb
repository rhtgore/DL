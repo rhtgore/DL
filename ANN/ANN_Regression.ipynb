{
  "nbformat": 4,
  "nbformat_minor": 0,
  "metadata": {
    "colab": {
      "name": "ANN_Regression.ipynb",
      "provenance": [],
      "collapsed_sections": []
    },
    "kernelspec": {
      "name": "python3",
      "display_name": "Python 3"
    },
    "language_info": {
      "name": "python"
    }
  },
  "cells": [
    {
      "cell_type": "code",
      "execution_count": 1,
      "metadata": {
        "id": "7E8ZZKhbxgHH"
      },
      "outputs": [],
      "source": [
        "import pandas as pd"
      ]
    },
    {
      "cell_type": "code",
      "source": [
        "BHNames= ['crim','zn','indus','chas','nox','rm',\n",
        "         'age','dis','rad','tax','ptratio','black','lstat','medv']\n",
        "\n",
        "\n",
        "url='https://archive.ics.uci.edu/ml/machine-learning-databases/housing/housing.data'\n",
        "df = pd.read_csv(url, delim_whitespace=True, names=BHNames)"
      ],
      "metadata": {
        "id": "LTrW9mjUxzGg"
      },
      "execution_count": 2,
      "outputs": []
    },
    {
      "cell_type": "code",
      "source": [
        "df.shape"
      ],
      "metadata": {
        "colab": {
          "base_uri": "https://localhost:8080/"
        },
        "id": "qmK2Mhxmx4H3",
        "outputId": "e155a6ae-a32d-438c-a2b0-d031e7813ad5"
      },
      "execution_count": 3,
      "outputs": [
        {
          "output_type": "execute_result",
          "data": {
            "text/plain": [
              "(506, 14)"
            ]
          },
          "metadata": {},
          "execution_count": 3
        }
      ]
    },
    {
      "cell_type": "code",
      "source": [
        "df.columns"
      ],
      "metadata": {
        "colab": {
          "base_uri": "https://localhost:8080/"
        },
        "id": "huhqt9mJx6G4",
        "outputId": "302c658a-63cb-469b-d273-995e541ae64a"
      },
      "execution_count": 4,
      "outputs": [
        {
          "output_type": "execute_result",
          "data": {
            "text/plain": [
              "Index(['crim', 'zn', 'indus', 'chas', 'nox', 'rm', 'age', 'dis', 'rad', 'tax',\n",
              "       'ptratio', 'black', 'lstat', 'medv'],\n",
              "      dtype='object')"
            ]
          },
          "metadata": {},
          "execution_count": 4
        }
      ]
    },
    {
      "cell_type": "code",
      "source": [
        "df.info()"
      ],
      "metadata": {
        "colab": {
          "base_uri": "https://localhost:8080/"
        },
        "id": "uQGYNjxcx8rV",
        "outputId": "a62116ac-aa74-4403-bfad-5022ff1b6f06"
      },
      "execution_count": 5,
      "outputs": [
        {
          "output_type": "stream",
          "name": "stdout",
          "text": [
            "<class 'pandas.core.frame.DataFrame'>\n",
            "RangeIndex: 506 entries, 0 to 505\n",
            "Data columns (total 14 columns):\n",
            " #   Column   Non-Null Count  Dtype  \n",
            "---  ------   --------------  -----  \n",
            " 0   crim     506 non-null    float64\n",
            " 1   zn       506 non-null    float64\n",
            " 2   indus    506 non-null    float64\n",
            " 3   chas     506 non-null    int64  \n",
            " 4   nox      506 non-null    float64\n",
            " 5   rm       506 non-null    float64\n",
            " 6   age      506 non-null    float64\n",
            " 7   dis      506 non-null    float64\n",
            " 8   rad      506 non-null    int64  \n",
            " 9   tax      506 non-null    float64\n",
            " 10  ptratio  506 non-null    float64\n",
            " 11  black    506 non-null    float64\n",
            " 12  lstat    506 non-null    float64\n",
            " 13  medv     506 non-null    float64\n",
            "dtypes: float64(12), int64(2)\n",
            "memory usage: 55.5 KB\n"
          ]
        }
      ]
    },
    {
      "cell_type": "code",
      "source": [
        "df.describe()"
      ],
      "metadata": {
        "colab": {
          "base_uri": "https://localhost:8080/",
          "height": 296
        },
        "id": "3WBPv5_Cx-tW",
        "outputId": "5de120e5-c382-4b51-8305-18f5a81d530b"
      },
      "execution_count": 6,
      "outputs": [
        {
          "output_type": "execute_result",
          "data": {
            "text/html": [
              "\n",
              "  <div id=\"df-ebefcd2b-167d-4dfc-99d5-a34734be2596\">\n",
              "    <div class=\"colab-df-container\">\n",
              "      <div>\n",
              "<style scoped>\n",
              "    .dataframe tbody tr th:only-of-type {\n",
              "        vertical-align: middle;\n",
              "    }\n",
              "\n",
              "    .dataframe tbody tr th {\n",
              "        vertical-align: top;\n",
              "    }\n",
              "\n",
              "    .dataframe thead th {\n",
              "        text-align: right;\n",
              "    }\n",
              "</style>\n",
              "<table border=\"1\" class=\"dataframe\">\n",
              "  <thead>\n",
              "    <tr style=\"text-align: right;\">\n",
              "      <th></th>\n",
              "      <th>crim</th>\n",
              "      <th>zn</th>\n",
              "      <th>indus</th>\n",
              "      <th>chas</th>\n",
              "      <th>nox</th>\n",
              "      <th>rm</th>\n",
              "      <th>age</th>\n",
              "      <th>dis</th>\n",
              "      <th>rad</th>\n",
              "      <th>tax</th>\n",
              "      <th>ptratio</th>\n",
              "      <th>black</th>\n",
              "      <th>lstat</th>\n",
              "      <th>medv</th>\n",
              "    </tr>\n",
              "  </thead>\n",
              "  <tbody>\n",
              "    <tr>\n",
              "      <th>count</th>\n",
              "      <td>506.000000</td>\n",
              "      <td>506.000000</td>\n",
              "      <td>506.000000</td>\n",
              "      <td>506.000000</td>\n",
              "      <td>506.000000</td>\n",
              "      <td>506.000000</td>\n",
              "      <td>506.000000</td>\n",
              "      <td>506.000000</td>\n",
              "      <td>506.000000</td>\n",
              "      <td>506.000000</td>\n",
              "      <td>506.000000</td>\n",
              "      <td>506.000000</td>\n",
              "      <td>506.000000</td>\n",
              "      <td>506.000000</td>\n",
              "    </tr>\n",
              "    <tr>\n",
              "      <th>mean</th>\n",
              "      <td>3.613524</td>\n",
              "      <td>11.363636</td>\n",
              "      <td>11.136779</td>\n",
              "      <td>0.069170</td>\n",
              "      <td>0.554695</td>\n",
              "      <td>6.284634</td>\n",
              "      <td>68.574901</td>\n",
              "      <td>3.795043</td>\n",
              "      <td>9.549407</td>\n",
              "      <td>408.237154</td>\n",
              "      <td>18.455534</td>\n",
              "      <td>356.674032</td>\n",
              "      <td>12.653063</td>\n",
              "      <td>22.532806</td>\n",
              "    </tr>\n",
              "    <tr>\n",
              "      <th>std</th>\n",
              "      <td>8.601545</td>\n",
              "      <td>23.322453</td>\n",
              "      <td>6.860353</td>\n",
              "      <td>0.253994</td>\n",
              "      <td>0.115878</td>\n",
              "      <td>0.702617</td>\n",
              "      <td>28.148861</td>\n",
              "      <td>2.105710</td>\n",
              "      <td>8.707259</td>\n",
              "      <td>168.537116</td>\n",
              "      <td>2.164946</td>\n",
              "      <td>91.294864</td>\n",
              "      <td>7.141062</td>\n",
              "      <td>9.197104</td>\n",
              "    </tr>\n",
              "    <tr>\n",
              "      <th>min</th>\n",
              "      <td>0.006320</td>\n",
              "      <td>0.000000</td>\n",
              "      <td>0.460000</td>\n",
              "      <td>0.000000</td>\n",
              "      <td>0.385000</td>\n",
              "      <td>3.561000</td>\n",
              "      <td>2.900000</td>\n",
              "      <td>1.129600</td>\n",
              "      <td>1.000000</td>\n",
              "      <td>187.000000</td>\n",
              "      <td>12.600000</td>\n",
              "      <td>0.320000</td>\n",
              "      <td>1.730000</td>\n",
              "      <td>5.000000</td>\n",
              "    </tr>\n",
              "    <tr>\n",
              "      <th>25%</th>\n",
              "      <td>0.082045</td>\n",
              "      <td>0.000000</td>\n",
              "      <td>5.190000</td>\n",
              "      <td>0.000000</td>\n",
              "      <td>0.449000</td>\n",
              "      <td>5.885500</td>\n",
              "      <td>45.025000</td>\n",
              "      <td>2.100175</td>\n",
              "      <td>4.000000</td>\n",
              "      <td>279.000000</td>\n",
              "      <td>17.400000</td>\n",
              "      <td>375.377500</td>\n",
              "      <td>6.950000</td>\n",
              "      <td>17.025000</td>\n",
              "    </tr>\n",
              "    <tr>\n",
              "      <th>50%</th>\n",
              "      <td>0.256510</td>\n",
              "      <td>0.000000</td>\n",
              "      <td>9.690000</td>\n",
              "      <td>0.000000</td>\n",
              "      <td>0.538000</td>\n",
              "      <td>6.208500</td>\n",
              "      <td>77.500000</td>\n",
              "      <td>3.207450</td>\n",
              "      <td>5.000000</td>\n",
              "      <td>330.000000</td>\n",
              "      <td>19.050000</td>\n",
              "      <td>391.440000</td>\n",
              "      <td>11.360000</td>\n",
              "      <td>21.200000</td>\n",
              "    </tr>\n",
              "    <tr>\n",
              "      <th>75%</th>\n",
              "      <td>3.677082</td>\n",
              "      <td>12.500000</td>\n",
              "      <td>18.100000</td>\n",
              "      <td>0.000000</td>\n",
              "      <td>0.624000</td>\n",
              "      <td>6.623500</td>\n",
              "      <td>94.075000</td>\n",
              "      <td>5.188425</td>\n",
              "      <td>24.000000</td>\n",
              "      <td>666.000000</td>\n",
              "      <td>20.200000</td>\n",
              "      <td>396.225000</td>\n",
              "      <td>16.955000</td>\n",
              "      <td>25.000000</td>\n",
              "    </tr>\n",
              "    <tr>\n",
              "      <th>max</th>\n",
              "      <td>88.976200</td>\n",
              "      <td>100.000000</td>\n",
              "      <td>27.740000</td>\n",
              "      <td>1.000000</td>\n",
              "      <td>0.871000</td>\n",
              "      <td>8.780000</td>\n",
              "      <td>100.000000</td>\n",
              "      <td>12.126500</td>\n",
              "      <td>24.000000</td>\n",
              "      <td>711.000000</td>\n",
              "      <td>22.000000</td>\n",
              "      <td>396.900000</td>\n",
              "      <td>37.970000</td>\n",
              "      <td>50.000000</td>\n",
              "    </tr>\n",
              "  </tbody>\n",
              "</table>\n",
              "</div>\n",
              "      <button class=\"colab-df-convert\" onclick=\"convertToInteractive('df-ebefcd2b-167d-4dfc-99d5-a34734be2596')\"\n",
              "              title=\"Convert this dataframe to an interactive table.\"\n",
              "              style=\"display:none;\">\n",
              "        \n",
              "  <svg xmlns=\"http://www.w3.org/2000/svg\" height=\"24px\"viewBox=\"0 0 24 24\"\n",
              "       width=\"24px\">\n",
              "    <path d=\"M0 0h24v24H0V0z\" fill=\"none\"/>\n",
              "    <path d=\"M18.56 5.44l.94 2.06.94-2.06 2.06-.94-2.06-.94-.94-2.06-.94 2.06-2.06.94zm-11 1L8.5 8.5l.94-2.06 2.06-.94-2.06-.94L8.5 2.5l-.94 2.06-2.06.94zm10 10l.94 2.06.94-2.06 2.06-.94-2.06-.94-.94-2.06-.94 2.06-2.06.94z\"/><path d=\"M17.41 7.96l-1.37-1.37c-.4-.4-.92-.59-1.43-.59-.52 0-1.04.2-1.43.59L10.3 9.45l-7.72 7.72c-.78.78-.78 2.05 0 2.83L4 21.41c.39.39.9.59 1.41.59.51 0 1.02-.2 1.41-.59l7.78-7.78 2.81-2.81c.8-.78.8-2.07 0-2.86zM5.41 20L4 18.59l7.72-7.72 1.47 1.35L5.41 20z\"/>\n",
              "  </svg>\n",
              "      </button>\n",
              "      \n",
              "  <style>\n",
              "    .colab-df-container {\n",
              "      display:flex;\n",
              "      flex-wrap:wrap;\n",
              "      gap: 12px;\n",
              "    }\n",
              "\n",
              "    .colab-df-convert {\n",
              "      background-color: #E8F0FE;\n",
              "      border: none;\n",
              "      border-radius: 50%;\n",
              "      cursor: pointer;\n",
              "      display: none;\n",
              "      fill: #1967D2;\n",
              "      height: 32px;\n",
              "      padding: 0 0 0 0;\n",
              "      width: 32px;\n",
              "    }\n",
              "\n",
              "    .colab-df-convert:hover {\n",
              "      background-color: #E2EBFA;\n",
              "      box-shadow: 0px 1px 2px rgba(60, 64, 67, 0.3), 0px 1px 3px 1px rgba(60, 64, 67, 0.15);\n",
              "      fill: #174EA6;\n",
              "    }\n",
              "\n",
              "    [theme=dark] .colab-df-convert {\n",
              "      background-color: #3B4455;\n",
              "      fill: #D2E3FC;\n",
              "    }\n",
              "\n",
              "    [theme=dark] .colab-df-convert:hover {\n",
              "      background-color: #434B5C;\n",
              "      box-shadow: 0px 1px 3px 1px rgba(0, 0, 0, 0.15);\n",
              "      filter: drop-shadow(0px 1px 2px rgba(0, 0, 0, 0.3));\n",
              "      fill: #FFFFFF;\n",
              "    }\n",
              "  </style>\n",
              "\n",
              "      <script>\n",
              "        const buttonEl =\n",
              "          document.querySelector('#df-ebefcd2b-167d-4dfc-99d5-a34734be2596 button.colab-df-convert');\n",
              "        buttonEl.style.display =\n",
              "          google.colab.kernel.accessAllowed ? 'block' : 'none';\n",
              "\n",
              "        async function convertToInteractive(key) {\n",
              "          const element = document.querySelector('#df-ebefcd2b-167d-4dfc-99d5-a34734be2596');\n",
              "          const dataTable =\n",
              "            await google.colab.kernel.invokeFunction('convertToInteractive',\n",
              "                                                     [key], {});\n",
              "          if (!dataTable) return;\n",
              "\n",
              "          const docLinkHtml = 'Like what you see? Visit the ' +\n",
              "            '<a target=\"_blank\" href=https://colab.research.google.com/notebooks/data_table.ipynb>data table notebook</a>'\n",
              "            + ' to learn more about interactive tables.';\n",
              "          element.innerHTML = '';\n",
              "          dataTable['output_type'] = 'display_data';\n",
              "          await google.colab.output.renderOutput(dataTable, element);\n",
              "          const docLink = document.createElement('div');\n",
              "          docLink.innerHTML = docLinkHtml;\n",
              "          element.appendChild(docLink);\n",
              "        }\n",
              "      </script>\n",
              "    </div>\n",
              "  </div>\n",
              "  "
            ],
            "text/plain": [
              "             crim          zn       indus  ...       black       lstat        medv\n",
              "count  506.000000  506.000000  506.000000  ...  506.000000  506.000000  506.000000\n",
              "mean     3.613524   11.363636   11.136779  ...  356.674032   12.653063   22.532806\n",
              "std      8.601545   23.322453    6.860353  ...   91.294864    7.141062    9.197104\n",
              "min      0.006320    0.000000    0.460000  ...    0.320000    1.730000    5.000000\n",
              "25%      0.082045    0.000000    5.190000  ...  375.377500    6.950000   17.025000\n",
              "50%      0.256510    0.000000    9.690000  ...  391.440000   11.360000   21.200000\n",
              "75%      3.677082   12.500000   18.100000  ...  396.225000   16.955000   25.000000\n",
              "max     88.976200  100.000000   27.740000  ...  396.900000   37.970000   50.000000\n",
              "\n",
              "[8 rows x 14 columns]"
            ]
          },
          "metadata": {},
          "execution_count": 6
        }
      ]
    },
    {
      "cell_type": "code",
      "source": [
        "# Scale data\n",
        "\n",
        "from sklearn.preprocessing import MinMaxScaler\n",
        "\n",
        "scaler = MinMaxScaler()\n",
        "scaled = scaler.fit_transform(df)"
      ],
      "metadata": {
        "id": "IV_PSAj4yBbB"
      },
      "execution_count": 10,
      "outputs": []
    },
    {
      "cell_type": "code",
      "source": [
        "type(scaled)"
      ],
      "metadata": {
        "colab": {
          "base_uri": "https://localhost:8080/"
        },
        "id": "Sdd7mr2IzeSm",
        "outputId": "8de2a2e7-1ac5-4be0-fec7-a6376c8048e1"
      },
      "execution_count": 11,
      "outputs": [
        {
          "output_type": "execute_result",
          "data": {
            "text/plain": [
              "numpy.ndarray"
            ]
          },
          "metadata": {},
          "execution_count": 11
        }
      ]
    },
    {
      "cell_type": "code",
      "source": [
        "df_scaled = pd.DataFrame(scaled, columns=BHNames)"
      ],
      "metadata": {
        "id": "sKJL4uWoziRj"
      },
      "execution_count": 12,
      "outputs": []
    },
    {
      "cell_type": "code",
      "source": [
        "df_scaled.shape"
      ],
      "metadata": {
        "colab": {
          "base_uri": "https://localhost:8080/"
        },
        "id": "GX70j0cFzxcl",
        "outputId": "57ae88c7-c086-4506-90c3-985392542969"
      },
      "execution_count": 13,
      "outputs": [
        {
          "output_type": "execute_result",
          "data": {
            "text/plain": [
              "(506, 14)"
            ]
          },
          "metadata": {},
          "execution_count": 13
        }
      ]
    },
    {
      "cell_type": "code",
      "source": [
        "df_scaled.describe()"
      ],
      "metadata": {
        "colab": {
          "base_uri": "https://localhost:8080/",
          "height": 296
        },
        "id": "SndkHsvLzy3h",
        "outputId": "56457fbd-49d0-477d-c5fc-27621af01776"
      },
      "execution_count": 14,
      "outputs": [
        {
          "output_type": "execute_result",
          "data": {
            "text/html": [
              "\n",
              "  <div id=\"df-0ad52826-d83c-422d-b26b-f7173654028d\">\n",
              "    <div class=\"colab-df-container\">\n",
              "      <div>\n",
              "<style scoped>\n",
              "    .dataframe tbody tr th:only-of-type {\n",
              "        vertical-align: middle;\n",
              "    }\n",
              "\n",
              "    .dataframe tbody tr th {\n",
              "        vertical-align: top;\n",
              "    }\n",
              "\n",
              "    .dataframe thead th {\n",
              "        text-align: right;\n",
              "    }\n",
              "</style>\n",
              "<table border=\"1\" class=\"dataframe\">\n",
              "  <thead>\n",
              "    <tr style=\"text-align: right;\">\n",
              "      <th></th>\n",
              "      <th>crim</th>\n",
              "      <th>zn</th>\n",
              "      <th>indus</th>\n",
              "      <th>chas</th>\n",
              "      <th>nox</th>\n",
              "      <th>rm</th>\n",
              "      <th>age</th>\n",
              "      <th>dis</th>\n",
              "      <th>rad</th>\n",
              "      <th>tax</th>\n",
              "      <th>ptratio</th>\n",
              "      <th>black</th>\n",
              "      <th>lstat</th>\n",
              "      <th>medv</th>\n",
              "    </tr>\n",
              "  </thead>\n",
              "  <tbody>\n",
              "    <tr>\n",
              "      <th>count</th>\n",
              "      <td>506.000000</td>\n",
              "      <td>506.000000</td>\n",
              "      <td>506.000000</td>\n",
              "      <td>506.000000</td>\n",
              "      <td>506.000000</td>\n",
              "      <td>506.000000</td>\n",
              "      <td>506.000000</td>\n",
              "      <td>506.000000</td>\n",
              "      <td>506.000000</td>\n",
              "      <td>506.000000</td>\n",
              "      <td>506.000000</td>\n",
              "      <td>506.000000</td>\n",
              "      <td>506.000000</td>\n",
              "      <td>506.000000</td>\n",
              "    </tr>\n",
              "    <tr>\n",
              "      <th>mean</th>\n",
              "      <td>0.040544</td>\n",
              "      <td>0.113636</td>\n",
              "      <td>0.391378</td>\n",
              "      <td>0.069170</td>\n",
              "      <td>0.349167</td>\n",
              "      <td>0.521869</td>\n",
              "      <td>0.676364</td>\n",
              "      <td>0.242381</td>\n",
              "      <td>0.371713</td>\n",
              "      <td>0.422208</td>\n",
              "      <td>0.622929</td>\n",
              "      <td>0.898568</td>\n",
              "      <td>0.301409</td>\n",
              "      <td>0.389618</td>\n",
              "    </tr>\n",
              "    <tr>\n",
              "      <th>std</th>\n",
              "      <td>0.096679</td>\n",
              "      <td>0.233225</td>\n",
              "      <td>0.251479</td>\n",
              "      <td>0.253994</td>\n",
              "      <td>0.238431</td>\n",
              "      <td>0.134627</td>\n",
              "      <td>0.289896</td>\n",
              "      <td>0.191482</td>\n",
              "      <td>0.378576</td>\n",
              "      <td>0.321636</td>\n",
              "      <td>0.230313</td>\n",
              "      <td>0.230205</td>\n",
              "      <td>0.197049</td>\n",
              "      <td>0.204380</td>\n",
              "    </tr>\n",
              "    <tr>\n",
              "      <th>min</th>\n",
              "      <td>0.000000</td>\n",
              "      <td>0.000000</td>\n",
              "      <td>0.000000</td>\n",
              "      <td>0.000000</td>\n",
              "      <td>0.000000</td>\n",
              "      <td>0.000000</td>\n",
              "      <td>0.000000</td>\n",
              "      <td>0.000000</td>\n",
              "      <td>0.000000</td>\n",
              "      <td>0.000000</td>\n",
              "      <td>0.000000</td>\n",
              "      <td>0.000000</td>\n",
              "      <td>0.000000</td>\n",
              "      <td>0.000000</td>\n",
              "    </tr>\n",
              "    <tr>\n",
              "      <th>25%</th>\n",
              "      <td>0.000851</td>\n",
              "      <td>0.000000</td>\n",
              "      <td>0.173387</td>\n",
              "      <td>0.000000</td>\n",
              "      <td>0.131687</td>\n",
              "      <td>0.445392</td>\n",
              "      <td>0.433831</td>\n",
              "      <td>0.088259</td>\n",
              "      <td>0.130435</td>\n",
              "      <td>0.175573</td>\n",
              "      <td>0.510638</td>\n",
              "      <td>0.945730</td>\n",
              "      <td>0.144040</td>\n",
              "      <td>0.267222</td>\n",
              "    </tr>\n",
              "    <tr>\n",
              "      <th>50%</th>\n",
              "      <td>0.002812</td>\n",
              "      <td>0.000000</td>\n",
              "      <td>0.338343</td>\n",
              "      <td>0.000000</td>\n",
              "      <td>0.314815</td>\n",
              "      <td>0.507281</td>\n",
              "      <td>0.768280</td>\n",
              "      <td>0.188949</td>\n",
              "      <td>0.173913</td>\n",
              "      <td>0.272901</td>\n",
              "      <td>0.686170</td>\n",
              "      <td>0.986232</td>\n",
              "      <td>0.265728</td>\n",
              "      <td>0.360000</td>\n",
              "    </tr>\n",
              "    <tr>\n",
              "      <th>75%</th>\n",
              "      <td>0.041258</td>\n",
              "      <td>0.125000</td>\n",
              "      <td>0.646628</td>\n",
              "      <td>0.000000</td>\n",
              "      <td>0.491770</td>\n",
              "      <td>0.586798</td>\n",
              "      <td>0.938980</td>\n",
              "      <td>0.369088</td>\n",
              "      <td>1.000000</td>\n",
              "      <td>0.914122</td>\n",
              "      <td>0.808511</td>\n",
              "      <td>0.998298</td>\n",
              "      <td>0.420116</td>\n",
              "      <td>0.444444</td>\n",
              "    </tr>\n",
              "    <tr>\n",
              "      <th>max</th>\n",
              "      <td>1.000000</td>\n",
              "      <td>1.000000</td>\n",
              "      <td>1.000000</td>\n",
              "      <td>1.000000</td>\n",
              "      <td>1.000000</td>\n",
              "      <td>1.000000</td>\n",
              "      <td>1.000000</td>\n",
              "      <td>1.000000</td>\n",
              "      <td>1.000000</td>\n",
              "      <td>1.000000</td>\n",
              "      <td>1.000000</td>\n",
              "      <td>1.000000</td>\n",
              "      <td>1.000000</td>\n",
              "      <td>1.000000</td>\n",
              "    </tr>\n",
              "  </tbody>\n",
              "</table>\n",
              "</div>\n",
              "      <button class=\"colab-df-convert\" onclick=\"convertToInteractive('df-0ad52826-d83c-422d-b26b-f7173654028d')\"\n",
              "              title=\"Convert this dataframe to an interactive table.\"\n",
              "              style=\"display:none;\">\n",
              "        \n",
              "  <svg xmlns=\"http://www.w3.org/2000/svg\" height=\"24px\"viewBox=\"0 0 24 24\"\n",
              "       width=\"24px\">\n",
              "    <path d=\"M0 0h24v24H0V0z\" fill=\"none\"/>\n",
              "    <path d=\"M18.56 5.44l.94 2.06.94-2.06 2.06-.94-2.06-.94-.94-2.06-.94 2.06-2.06.94zm-11 1L8.5 8.5l.94-2.06 2.06-.94-2.06-.94L8.5 2.5l-.94 2.06-2.06.94zm10 10l.94 2.06.94-2.06 2.06-.94-2.06-.94-.94-2.06-.94 2.06-2.06.94z\"/><path d=\"M17.41 7.96l-1.37-1.37c-.4-.4-.92-.59-1.43-.59-.52 0-1.04.2-1.43.59L10.3 9.45l-7.72 7.72c-.78.78-.78 2.05 0 2.83L4 21.41c.39.39.9.59 1.41.59.51 0 1.02-.2 1.41-.59l7.78-7.78 2.81-2.81c.8-.78.8-2.07 0-2.86zM5.41 20L4 18.59l7.72-7.72 1.47 1.35L5.41 20z\"/>\n",
              "  </svg>\n",
              "      </button>\n",
              "      \n",
              "  <style>\n",
              "    .colab-df-container {\n",
              "      display:flex;\n",
              "      flex-wrap:wrap;\n",
              "      gap: 12px;\n",
              "    }\n",
              "\n",
              "    .colab-df-convert {\n",
              "      background-color: #E8F0FE;\n",
              "      border: none;\n",
              "      border-radius: 50%;\n",
              "      cursor: pointer;\n",
              "      display: none;\n",
              "      fill: #1967D2;\n",
              "      height: 32px;\n",
              "      padding: 0 0 0 0;\n",
              "      width: 32px;\n",
              "    }\n",
              "\n",
              "    .colab-df-convert:hover {\n",
              "      background-color: #E2EBFA;\n",
              "      box-shadow: 0px 1px 2px rgba(60, 64, 67, 0.3), 0px 1px 3px 1px rgba(60, 64, 67, 0.15);\n",
              "      fill: #174EA6;\n",
              "    }\n",
              "\n",
              "    [theme=dark] .colab-df-convert {\n",
              "      background-color: #3B4455;\n",
              "      fill: #D2E3FC;\n",
              "    }\n",
              "\n",
              "    [theme=dark] .colab-df-convert:hover {\n",
              "      background-color: #434B5C;\n",
              "      box-shadow: 0px 1px 3px 1px rgba(0, 0, 0, 0.15);\n",
              "      filter: drop-shadow(0px 1px 2px rgba(0, 0, 0, 0.3));\n",
              "      fill: #FFFFFF;\n",
              "    }\n",
              "  </style>\n",
              "\n",
              "      <script>\n",
              "        const buttonEl =\n",
              "          document.querySelector('#df-0ad52826-d83c-422d-b26b-f7173654028d button.colab-df-convert');\n",
              "        buttonEl.style.display =\n",
              "          google.colab.kernel.accessAllowed ? 'block' : 'none';\n",
              "\n",
              "        async function convertToInteractive(key) {\n",
              "          const element = document.querySelector('#df-0ad52826-d83c-422d-b26b-f7173654028d');\n",
              "          const dataTable =\n",
              "            await google.colab.kernel.invokeFunction('convertToInteractive',\n",
              "                                                     [key], {});\n",
              "          if (!dataTable) return;\n",
              "\n",
              "          const docLinkHtml = 'Like what you see? Visit the ' +\n",
              "            '<a target=\"_blank\" href=https://colab.research.google.com/notebooks/data_table.ipynb>data table notebook</a>'\n",
              "            + ' to learn more about interactive tables.';\n",
              "          element.innerHTML = '';\n",
              "          dataTable['output_type'] = 'display_data';\n",
              "          await google.colab.output.renderOutput(dataTable, element);\n",
              "          const docLink = document.createElement('div');\n",
              "          docLink.innerHTML = docLinkHtml;\n",
              "          element.appendChild(docLink);\n",
              "        }\n",
              "      </script>\n",
              "    </div>\n",
              "  </div>\n",
              "  "
            ],
            "text/plain": [
              "             crim          zn       indus  ...       black       lstat        medv\n",
              "count  506.000000  506.000000  506.000000  ...  506.000000  506.000000  506.000000\n",
              "mean     0.040544    0.113636    0.391378  ...    0.898568    0.301409    0.389618\n",
              "std      0.096679    0.233225    0.251479  ...    0.230205    0.197049    0.204380\n",
              "min      0.000000    0.000000    0.000000  ...    0.000000    0.000000    0.000000\n",
              "25%      0.000851    0.000000    0.173387  ...    0.945730    0.144040    0.267222\n",
              "50%      0.002812    0.000000    0.338343  ...    0.986232    0.265728    0.360000\n",
              "75%      0.041258    0.125000    0.646628  ...    0.998298    0.420116    0.444444\n",
              "max      1.000000    1.000000    1.000000  ...    1.000000    1.000000    1.000000\n",
              "\n",
              "[8 rows x 14 columns]"
            ]
          },
          "metadata": {},
          "execution_count": 14
        }
      ]
    },
    {
      "cell_type": "code",
      "source": [
        "corr = df_scaled.corr(method='pearson')\n",
        "print(corr)"
      ],
      "metadata": {
        "colab": {
          "base_uri": "https://localhost:8080/"
        },
        "id": "eMwddqtlz5Z_",
        "outputId": "a488cb26-0678-4b32-a056-d5992b82bcfc"
      },
      "execution_count": 15,
      "outputs": [
        {
          "output_type": "stream",
          "name": "stdout",
          "text": [
            "             crim        zn     indus  ...     black     lstat      medv\n",
            "crim     1.000000 -0.200469  0.406583  ... -0.385064  0.455621 -0.388305\n",
            "zn      -0.200469  1.000000 -0.533828  ...  0.175520 -0.412995  0.360445\n",
            "indus    0.406583 -0.533828  1.000000  ... -0.356977  0.603800 -0.483725\n",
            "chas    -0.055892 -0.042697  0.062938  ...  0.048788 -0.053929  0.175260\n",
            "nox      0.420972 -0.516604  0.763651  ... -0.380051  0.590879 -0.427321\n",
            "rm      -0.219247  0.311991 -0.391676  ...  0.128069 -0.613808  0.695360\n",
            "age      0.352734 -0.569537  0.644779  ... -0.273534  0.602339 -0.376955\n",
            "dis     -0.379670  0.664408 -0.708027  ...  0.291512 -0.496996  0.249929\n",
            "rad      0.625505 -0.311948  0.595129  ... -0.444413  0.488676 -0.381626\n",
            "tax      0.582764 -0.314563  0.720760  ... -0.441808  0.543993 -0.468536\n",
            "ptratio  0.289946 -0.391679  0.383248  ... -0.177383  0.374044 -0.507787\n",
            "black   -0.385064  0.175520 -0.356977  ...  1.000000 -0.366087  0.333461\n",
            "lstat    0.455621 -0.412995  0.603800  ... -0.366087  1.000000 -0.737663\n",
            "medv    -0.388305  0.360445 -0.483725  ...  0.333461 -0.737663  1.000000\n",
            "\n",
            "[14 rows x 14 columns]\n"
          ]
        }
      ]
    },
    {
      "cell_type": "code",
      "source": [
        "import matplotlib.pyplot as plt\n",
        "% matplotlib inline\n",
        "import seaborn as sns"
      ],
      "metadata": {
        "id": "V9Fka_HR0Yt3"
      },
      "execution_count": 18,
      "outputs": []
    },
    {
      "cell_type": "code",
      "source": [
        "sns.heatmap(corr)"
      ],
      "metadata": {
        "colab": {
          "base_uri": "https://localhost:8080/",
          "height": 309
        },
        "id": "rHAOpHsi0dOn",
        "outputId": "90595bed-994c-4c9e-aa27-65226d9b5348"
      },
      "execution_count": 19,
      "outputs": [
        {
          "output_type": "execute_result",
          "data": {
            "text/plain": [
              "<matplotlib.axes._subplots.AxesSubplot at 0x7f7f00a69bd0>"
            ]
          },
          "metadata": {},
          "execution_count": 19
        },
        {
          "output_type": "display_data",
          "data": {
            "image/png": "[encoded data removed]",
            "text/plain": [
              "<Figure size 432x288 with 2 Axes>"
            ]
          },
          "metadata": {
            "needs_background": "light"
          }
        }
      ]
    },
    {
      "cell_type": "code",
      "source": [
        "  X = df_scaled.drop('medv', axis='columns')\n",
        "  y = df_scaled['medv']\n",
        "\n",
        "  print( X.shape, y.shape)"
      ],
      "metadata": {
        "colab": {
          "base_uri": "https://localhost:8080/"
        },
        "id": "G3uYgXkJ0q8f",
        "outputId": "773b8159-4ef7-4956-a550-4109f24b8fa1"
      },
      "execution_count": 39,
      "outputs": [
        {
          "output_type": "stream",
          "name": "stdout",
          "text": [
            "(506, 13) (506,)\n"
          ]
        }
      ]
    },
    {
      "cell_type": "code",
      "source": [
        "# split dataset into train and test\n",
        "\n",
        "from sklearn.model_selection import train_test_split\n",
        "X_train, X_test, y_train, y_test = train_test_split(X, y, test_size = 0.2, random_state=42)"
      ],
      "metadata": {
        "id": "0LxOL_BU1A0R"
      },
      "execution_count": 40,
      "outputs": []
    },
    {
      "cell_type": "code",
      "source": [
        "print(X_train.shape, X_test.shape, y_train.shape, y_test.shape)"
      ],
      "metadata": {
        "colab": {
          "base_uri": "https://localhost:8080/"
        },
        "id": "pa_Uufa91WPu",
        "outputId": "d2603e32-28e3-4b9a-b2c2-ba2e5019238b"
      },
      "execution_count": 41,
      "outputs": [
        {
          "output_type": "stream",
          "name": "stdout",
          "text": [
            "(404, 13) (102, 13) (404,) (102,)\n"
          ]
        }
      ]
    },
    {
      "cell_type": "code",
      "source": [
        "import keras\n",
        "from keras.models import Sequential\n",
        "from keras.layers import Dense"
      ],
      "metadata": {
        "id": "8dMOXz971dsa"
      },
      "execution_count": 42,
      "outputs": []
    },
    {
      "cell_type": "code",
      "source": [
        "model = Sequential()\n",
        "model.add(Dense(20, activation='relu', input_dim=13))\n",
        "model.add(Dense(10, activation='relu'))\n",
        "model.add(Dense(1, activation='linear'))"
      ],
      "metadata": {
        "id": "NMnqXetE1nND"
      },
      "execution_count": 43,
      "outputs": []
    },
    {
      "cell_type": "code",
      "source": [
        "model.summary()"
      ],
      "metadata": {
        "colab": {
          "base_uri": "https://localhost:8080/"
        },
        "id": "TsVahUMf2BBn",
        "outputId": "aa56b606-ddf3-46a5-e29a-50cb2831f593"
      },
      "execution_count": 44,
      "outputs": [
        {
          "output_type": "stream",
          "name": "stdout",
          "text": [
            "Model: \"sequential_1\"\n",
            "_________________________________________________________________\n",
            " Layer (type)                Output Shape              Param #   \n",
            "=================================================================\n",
            " dense_3 (Dense)             (None, 20)                280       \n",
            "                                                                 \n",
            " dense_4 (Dense)             (None, 10)                210       \n",
            "                                                                 \n",
            " dense_5 (Dense)             (None, 1)                 11        \n",
            "                                                                 \n",
            "=================================================================\n",
            "Total params: 501\n",
            "Trainable params: 501\n",
            "Non-trainable params: 0\n",
            "_________________________________________________________________\n"
          ]
        }
      ]
    },
    {
      "cell_type": "code",
      "source": [
        "model.compile(optimizer='Adam', loss='mean_squared_error', metrics=['accuracy'])"
      ],
      "metadata": {
        "id": "CBxjthyc2Cx-"
      },
      "execution_count": 45,
      "outputs": []
    },
    {
      "cell_type": "code",
      "source": [
        "model.fit(X_train, y_train, epochs=100, batch_size=10, verbose=1)"
      ],
      "metadata": {
        "colab": {
          "base_uri": "https://localhost:8080/"
        },
        "id": "EDZx04YT2NPc",
        "outputId": "aa00dbea-ee3e-4b68-b3b4-fc3cd413c8ac"
      },
      "execution_count": 46,
      "outputs": [
        {
          "output_type": "stream",
          "name": "stdout",
          "text": [
            "Epoch 1/100\n",
            "41/41 [==============================] - 0s 2ms/step - loss: 0.0327 - accuracy: 0.0124\n",
            "Epoch 2/100\n",
            "41/41 [==============================] - 0s 2ms/step - loss: 0.0273 - accuracy: 0.0149\n",
            "Epoch 3/100\n",
            "41/41 [==============================] - 0s 2ms/step - loss: 0.0237 - accuracy: 0.0248\n",
            "Epoch 4/100\n",
            "41/41 [==============================] - 0s 2ms/step - loss: 0.0204 - accuracy: 0.0272\n",
            "Epoch 5/100\n",
            "41/41 [==============================] - 0s 2ms/step - loss: 0.0182 - accuracy: 0.0297\n",
            "Epoch 6/100\n",
            "41/41 [==============================] - 0s 2ms/step - loss: 0.0158 - accuracy: 0.0297\n",
            "Epoch 7/100\n",
            "41/41 [==============================] - 0s 2ms/step - loss: 0.0140 - accuracy: 0.0297\n",
            "Epoch 8/100\n",
            "41/41 [==============================] - 0s 2ms/step - loss: 0.0133 - accuracy: 0.0297\n",
            "Epoch 9/100\n",
            "41/41 [==============================] - 0s 2ms/step - loss: 0.0118 - accuracy: 0.0297\n",
            "Epoch 10/100\n",
            "41/41 [==============================] - 0s 2ms/step - loss: 0.0112 - accuracy: 0.0297\n",
            "Epoch 11/100\n",
            "41/41 [==============================] - 0s 2ms/step - loss: 0.0104 - accuracy: 0.0297\n",
            "Epoch 12/100\n",
            "41/41 [==============================] - 0s 2ms/step - loss: 0.0101 - accuracy: 0.0297\n",
            "Epoch 13/100\n",
            "41/41 [==============================] - 0s 2ms/step - loss: 0.0103 - accuracy: 0.0297\n",
            "Epoch 14/100\n",
            "41/41 [==============================] - 0s 2ms/step - loss: 0.0094 - accuracy: 0.0297\n",
            "Epoch 15/100\n",
            "41/41 [==============================] - 0s 2ms/step - loss: 0.0092 - accuracy: 0.0297\n",
            "Epoch 16/100\n",
            "41/41 [==============================] - 0s 2ms/step - loss: 0.0092 - accuracy: 0.0297\n",
            "Epoch 17/100\n",
            "41/41 [==============================] - 0s 2ms/step - loss: 0.0089 - accuracy: 0.0297\n",
            "Epoch 18/100\n",
            "41/41 [==============================] - 0s 2ms/step - loss: 0.0085 - accuracy: 0.0297\n",
            "Epoch 19/100\n",
            "41/41 [==============================] - 0s 2ms/step - loss: 0.0086 - accuracy: 0.0297\n",
            "Epoch 20/100\n",
            "41/41 [==============================] - 0s 2ms/step - loss: 0.0084 - accuracy: 0.0297\n",
            "Epoch 21/100\n",
            "41/41 [==============================] - 0s 2ms/step - loss: 0.0080 - accuracy: 0.0297\n",
            "Epoch 22/100\n",
            "41/41 [==============================] - 0s 2ms/step - loss: 0.0080 - accuracy: 0.0297\n",
            "Epoch 23/100\n",
            "41/41 [==============================] - 0s 2ms/step - loss: 0.0087 - accuracy: 0.0297\n",
            "Epoch 24/100\n",
            "41/41 [==============================] - 0s 2ms/step - loss: 0.0077 - accuracy: 0.0322\n",
            "Epoch 25/100\n",
            "41/41 [==============================] - 0s 2ms/step - loss: 0.0078 - accuracy: 0.0322\n",
            "Epoch 26/100\n",
            "41/41 [==============================] - 0s 2ms/step - loss: 0.0077 - accuracy: 0.0322\n",
            "Epoch 27/100\n",
            "41/41 [==============================] - 0s 2ms/step - loss: 0.0076 - accuracy: 0.0297\n",
            "Epoch 28/100\n",
            "41/41 [==============================] - 0s 2ms/step - loss: 0.0075 - accuracy: 0.0322\n",
            "Epoch 29/100\n",
            "41/41 [==============================] - 0s 2ms/step - loss: 0.0075 - accuracy: 0.0297\n",
            "Epoch 30/100\n",
            "41/41 [==============================] - 0s 2ms/step - loss: 0.0076 - accuracy: 0.0297\n",
            "Epoch 31/100\n",
            "41/41 [==============================] - 0s 2ms/step - loss: 0.0073 - accuracy: 0.0322\n",
            "Epoch 32/100\n",
            "41/41 [==============================] - 0s 2ms/step - loss: 0.0072 - accuracy: 0.0322\n",
            "Epoch 33/100\n",
            "41/41 [==============================] - 0s 2ms/step - loss: 0.0075 - accuracy: 0.0297\n",
            "Epoch 34/100\n",
            "41/41 [==============================] - 0s 2ms/step - loss: 0.0074 - accuracy: 0.0322\n",
            "Epoch 35/100\n",
            "41/41 [==============================] - 0s 2ms/step - loss: 0.0071 - accuracy: 0.0322\n",
            "Epoch 36/100\n",
            "41/41 [==============================] - 0s 2ms/step - loss: 0.0069 - accuracy: 0.0322\n",
            "Epoch 37/100\n",
            "41/41 [==============================] - 0s 2ms/step - loss: 0.0069 - accuracy: 0.0322\n",
            "Epoch 38/100\n",
            "41/41 [==============================] - 0s 2ms/step - loss: 0.0070 - accuracy: 0.0322\n",
            "Epoch 39/100\n",
            "41/41 [==============================] - 0s 2ms/step - loss: 0.0069 - accuracy: 0.0322\n",
            "Epoch 40/100\n",
            "41/41 [==============================] - 0s 2ms/step - loss: 0.0071 - accuracy: 0.0297\n",
            "Epoch 41/100\n",
            "41/41 [==============================] - 0s 2ms/step - loss: 0.0069 - accuracy: 0.0297\n",
            "Epoch 42/100\n",
            "41/41 [==============================] - 0s 2ms/step - loss: 0.0073 - accuracy: 0.0322\n",
            "Epoch 43/100\n",
            "41/41 [==============================] - 0s 2ms/step - loss: 0.0067 - accuracy: 0.0347\n",
            "Epoch 44/100\n",
            "41/41 [==============================] - 0s 2ms/step - loss: 0.0066 - accuracy: 0.0347\n",
            "Epoch 45/100\n",
            "41/41 [==============================] - 0s 2ms/step - loss: 0.0065 - accuracy: 0.0347\n",
            "Epoch 46/100\n",
            "41/41 [==============================] - 0s 2ms/step - loss: 0.0064 - accuracy: 0.0347\n",
            "Epoch 47/100\n",
            "41/41 [==============================] - 0s 1ms/step - loss: 0.0070 - accuracy: 0.0322\n",
            "Epoch 48/100\n",
            "41/41 [==============================] - 0s 2ms/step - loss: 0.0064 - accuracy: 0.0347\n",
            "Epoch 49/100\n",
            "41/41 [==============================] - 0s 2ms/step - loss: 0.0062 - accuracy: 0.0347\n",
            "Epoch 50/100\n",
            "41/41 [==============================] - 0s 2ms/step - loss: 0.0064 - accuracy: 0.0347\n",
            "Epoch 51/100\n",
            "41/41 [==============================] - 0s 2ms/step - loss: 0.0064 - accuracy: 0.0347\n",
            "Epoch 52/100\n",
            "41/41 [==============================] - 0s 2ms/step - loss: 0.0062 - accuracy: 0.0347\n",
            "Epoch 53/100\n",
            "41/41 [==============================] - 0s 2ms/step - loss: 0.0064 - accuracy: 0.0322\n",
            "Epoch 54/100\n",
            "41/41 [==============================] - 0s 2ms/step - loss: 0.0062 - accuracy: 0.0347\n",
            "Epoch 55/100\n",
            "41/41 [==============================] - 0s 2ms/step - loss: 0.0061 - accuracy: 0.0347\n",
            "Epoch 56/100\n",
            "41/41 [==============================] - 0s 2ms/step - loss: 0.0060 - accuracy: 0.0347\n",
            "Epoch 57/100\n",
            "41/41 [==============================] - 0s 2ms/step - loss: 0.0062 - accuracy: 0.0347\n",
            "Epoch 58/100\n",
            "41/41 [==============================] - 0s 2ms/step - loss: 0.0065 - accuracy: 0.0322\n",
            "Epoch 59/100\n",
            "41/41 [==============================] - 0s 2ms/step - loss: 0.0060 - accuracy: 0.0347\n",
            "Epoch 60/100\n",
            "41/41 [==============================] - 0s 2ms/step - loss: 0.0060 - accuracy: 0.0347\n",
            "Epoch 61/100\n",
            "41/41 [==============================] - 0s 2ms/step - loss: 0.0065 - accuracy: 0.0347\n",
            "Epoch 62/100\n",
            "41/41 [==============================] - 0s 2ms/step - loss: 0.0062 - accuracy: 0.0347\n",
            "Epoch 63/100\n",
            "41/41 [==============================] - 0s 2ms/step - loss: 0.0058 - accuracy: 0.0347\n",
            "Epoch 64/100\n",
            "41/41 [==============================] - 0s 2ms/step - loss: 0.0058 - accuracy: 0.0347\n",
            "Epoch 65/100\n",
            "41/41 [==============================] - 0s 2ms/step - loss: 0.0060 - accuracy: 0.0347\n",
            "Epoch 66/100\n",
            "41/41 [==============================] - 0s 2ms/step - loss: 0.0061 - accuracy: 0.0347\n",
            "Epoch 67/100\n",
            "41/41 [==============================] - 0s 2ms/step - loss: 0.0060 - accuracy: 0.0347\n",
            "Epoch 68/100\n",
            "41/41 [==============================] - 0s 2ms/step - loss: 0.0059 - accuracy: 0.0347\n",
            "Epoch 69/100\n",
            "41/41 [==============================] - 0s 2ms/step - loss: 0.0057 - accuracy: 0.0347\n",
            "Epoch 70/100\n",
            "41/41 [==============================] - 0s 2ms/step - loss: 0.0057 - accuracy: 0.0347\n",
            "Epoch 71/100\n",
            "41/41 [==============================] - 0s 2ms/step - loss: 0.0056 - accuracy: 0.0347\n",
            "Epoch 72/100\n",
            "41/41 [==============================] - 0s 2ms/step - loss: 0.0058 - accuracy: 0.0347\n",
            "Epoch 73/100\n",
            "41/41 [==============================] - 0s 2ms/step - loss: 0.0056 - accuracy: 0.0347\n",
            "Epoch 74/100\n",
            "41/41 [==============================] - 0s 2ms/step - loss: 0.0054 - accuracy: 0.0347\n",
            "Epoch 75/100\n",
            "41/41 [==============================] - 0s 2ms/step - loss: 0.0057 - accuracy: 0.0347\n",
            "Epoch 76/100\n",
            "41/41 [==============================] - 0s 2ms/step - loss: 0.0055 - accuracy: 0.0347\n",
            "Epoch 77/100\n",
            "41/41 [==============================] - 0s 2ms/step - loss: 0.0053 - accuracy: 0.0347\n",
            "Epoch 78/100\n",
            "41/41 [==============================] - 0s 2ms/step - loss: 0.0052 - accuracy: 0.0347\n",
            "Epoch 79/100\n",
            "41/41 [==============================] - 0s 2ms/step - loss: 0.0054 - accuracy: 0.0347\n",
            "Epoch 80/100\n",
            "41/41 [==============================] - 0s 2ms/step - loss: 0.0052 - accuracy: 0.0347\n",
            "Epoch 81/100\n",
            "41/41 [==============================] - 0s 2ms/step - loss: 0.0055 - accuracy: 0.0347\n",
            "Epoch 82/100\n",
            "41/41 [==============================] - 0s 2ms/step - loss: 0.0053 - accuracy: 0.0347\n",
            "Epoch 83/100\n",
            "41/41 [==============================] - 0s 2ms/step - loss: 0.0053 - accuracy: 0.0347\n",
            "Epoch 84/100\n",
            "41/41 [==============================] - 0s 2ms/step - loss: 0.0050 - accuracy: 0.0347\n",
            "Epoch 85/100\n",
            "41/41 [==============================] - 0s 2ms/step - loss: 0.0048 - accuracy: 0.0347\n",
            "Epoch 86/100\n",
            "41/41 [==============================] - 0s 2ms/step - loss: 0.0052 - accuracy: 0.0347\n",
            "Epoch 87/100\n",
            "41/41 [==============================] - 0s 2ms/step - loss: 0.0050 - accuracy: 0.0347\n",
            "Epoch 88/100\n",
            "41/41 [==============================] - 0s 2ms/step - loss: 0.0048 - accuracy: 0.0347\n",
            "Epoch 89/100\n",
            "41/41 [==============================] - 0s 2ms/step - loss: 0.0053 - accuracy: 0.0347\n",
            "Epoch 90/100\n",
            "41/41 [==============================] - 0s 2ms/step - loss: 0.0053 - accuracy: 0.0347\n",
            "Epoch 91/100\n",
            "41/41 [==============================] - 0s 2ms/step - loss: 0.0050 - accuracy: 0.0347\n",
            "Epoch 92/100\n",
            "41/41 [==============================] - 0s 2ms/step - loss: 0.0048 - accuracy: 0.0347\n",
            "Epoch 93/100\n",
            "41/41 [==============================] - 0s 2ms/step - loss: 0.0051 - accuracy: 0.0347\n",
            "Epoch 94/100\n",
            "41/41 [==============================] - 0s 2ms/step - loss: 0.0049 - accuracy: 0.0347\n",
            "Epoch 95/100\n",
            "41/41 [==============================] - 0s 2ms/step - loss: 0.0047 - accuracy: 0.0347\n",
            "Epoch 96/100\n",
            "41/41 [==============================] - 0s 2ms/step - loss: 0.0048 - accuracy: 0.0347\n",
            "Epoch 97/100\n",
            "41/41 [==============================] - 0s 2ms/step - loss: 0.0046 - accuracy: 0.0347\n",
            "Epoch 98/100\n",
            "41/41 [==============================] - 0s 2ms/step - loss: 0.0047 - accuracy: 0.0347\n",
            "Epoch 99/100\n",
            "41/41 [==============================] - 0s 2ms/step - loss: 0.0049 - accuracy: 0.0347\n",
            "Epoch 100/100\n",
            "41/41 [==============================] - 0s 2ms/step - loss: 0.0046 - accuracy: 0.0347\n"
          ]
        },
        {
          "output_type": "execute_result",
          "data": {
            "text/plain": [
              "<keras.callbacks.History at 0x7f7e8d264e10>"
            ]
          },
          "metadata": {},
          "execution_count": 46
        }
      ]
    },
    {
      "cell_type": "code",
      "source": [
        "y_pred = model.predict(X_test)"
      ],
      "metadata": {
        "id": "LoN3q9tQ2pxI"
      },
      "execution_count": 47,
      "outputs": []
    },
    {
      "cell_type": "code",
      "source": [
        "y_pred[:4]"
      ],
      "metadata": {
        "colab": {
          "base_uri": "https://localhost:8080/"
        },
        "id": "QsvIYtY626QD",
        "outputId": "633327da-8f76-43f6-8995-4641ece699f2"
      },
      "execution_count": 48,
      "outputs": [
        {
          "output_type": "execute_result",
          "data": {
            "text/plain": [
              "array([[0.47621715],\n",
              "       [0.67394596],\n",
              "       [0.25826412],\n",
              "       [0.46812916]], dtype=float32)"
            ]
          },
          "metadata": {},
          "execution_count": 48
        }
      ]
    },
    {
      "cell_type": "code",
      "source": [
        "y_test[:4]"
      ],
      "metadata": {
        "colab": {
          "base_uri": "https://localhost:8080/"
        },
        "id": "cc3xK_iT278k",
        "outputId": "3dfb6ab7-0c78-4040-b765-d1a94f119c91"
      },
      "execution_count": 49,
      "outputs": [
        {
          "output_type": "execute_result",
          "data": {
            "text/plain": [
              "173    0.413333\n",
              "274    0.608889\n",
              "491    0.191111\n",
              "72     0.395556\n",
              "Name: medv, dtype: float64"
            ]
          },
          "metadata": {},
          "execution_count": 49
        }
      ]
    },
    {
      "cell_type": "code",
      "source": [
        "score = model.evaluate(X_test, y_test, verbose=0)"
      ],
      "metadata": {
        "id": "DP5z93FZ29qQ"
      },
      "execution_count": 50,
      "outputs": []
    },
    {
      "cell_type": "code",
      "source": [
        "score[0]"
      ],
      "metadata": {
        "colab": {
          "base_uri": "https://localhost:8080/"
        },
        "id": "yLy2_j_n3LQd",
        "outputId": "c5ea61ba-bcd4-4221-fcab-a19caf728e04"
      },
      "execution_count": 51,
      "outputs": [
        {
          "output_type": "execute_result",
          "data": {
            "text/plain": [
              "0.005898564588278532"
            ]
          },
          "metadata": {},
          "execution_count": 51
        }
      ]
    },
    {
      "cell_type": "code",
      "source": [
        "# Linear regr model\n",
        "\n",
        "from sklearn.linear_model import LinearRegression\n",
        "\n",
        "LModel = LinearRegression()\n",
        "LModel.fit(X_train, y_train)\n",
        "\n",
        "y_pred_lin_reg = LModel.predict(X_test)"
      ],
      "metadata": {
        "id": "qWNTZg_Y3ib9"
      },
      "execution_count": 54,
      "outputs": []
    },
    {
      "cell_type": "code",
      "source": [
        "from sklearn.metrics import mean_squared_error\n",
        "mse = mean_squared_error(y_test, y_pred_lin_reg)\n",
        "print(mse)"
      ],
      "metadata": {
        "colab": {
          "base_uri": "https://localhost:8080/"
        },
        "id": "6WP14XS34EVM",
        "outputId": "6567eefd-c289-4746-c61e-31ffe8ee9046"
      },
      "execution_count": 55,
      "outputs": [
        {
          "output_type": "stream",
          "name": "stdout",
          "text": [
            "0.011995614555542477\n"
          ]
        }
      ]
    },
    {
      "cell_type": "code",
      "source": [
        ""
      ],
      "metadata": {
        "id": "F2NDOEch4TGi"
      },
      "execution_count": null,
      "outputs": []
    }
  ]
}