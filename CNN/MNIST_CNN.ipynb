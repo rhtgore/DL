{
  "nbformat": 4,
  "nbformat_minor": 0,
  "metadata": {
    "colab": {
      "name": "MNIST_CNN.ipynb",
      "provenance": [],
      "collapsed_sections": []
    },
    "kernelspec": {
      "name": "python3",
      "display_name": "Python 3"
    },
    "language_info": {
      "name": "python"
    }
  },
  "cells": [
    {
      "cell_type": "code",
      "execution_count": 75,
      "metadata": {
        "id": "HNh6s9gTXrQ1"
      },
      "outputs": [],
      "source": [
        "from keras.datasets import mnist"
      ]
    },
    {
      "cell_type": "code",
      "source": [
        "help(mnist)"
      ],
      "metadata": {
        "colab": {
          "base_uri": "https://localhost:8080/"
        },
        "id": "mzHiSFvkYBNv",
        "outputId": "bfaf1fb9-1a37-4d0b-bcd2-714f125ff845"
      },
      "execution_count": 76,
      "outputs": [
        {
          "output_type": "stream",
          "name": "stdout",
          "text": [
            "Help on module keras.datasets.mnist in keras.datasets:\n",
            "\n",
            "NAME\n",
            "    keras.datasets.mnist - MNIST handwritten digits dataset.\n",
            "\n",
            "FUNCTIONS\n",
            "    load_data(path='mnist.npz')\n",
            "        Loads the MNIST dataset.\n",
            "        \n",
            "        This is a dataset of 60,000 28x28 grayscale images of the 10 digits,\n",
            "        along with a test set of 10,000 images.\n",
            "        More info can be found at the\n",
            "        [MNIST homepage](http://yann.lecun.com/exdb/mnist/).\n",
            "        \n",
            "        Args:\n",
            "          path: path where to cache the dataset locally\n",
            "            (relative to `~/.keras/datasets`).\n",
            "        \n",
            "        Returns:\n",
            "          Tuple of NumPy arrays: `(x_train, y_train), (x_test, y_test)`.\n",
            "        \n",
            "        **x_train**: uint8 NumPy array of grayscale image data with shapes\n",
            "          `(60000, 28, 28)`, containing the training data. Pixel values range\n",
            "          from 0 to 255.\n",
            "        \n",
            "        **y_train**: uint8 NumPy array of digit labels (integers in range 0-9)\n",
            "          with shape `(60000,)` for the training data.\n",
            "        \n",
            "        **x_test**: uint8 NumPy array of grayscale image data with shapes\n",
            "          (10000, 28, 28), containing the test data. Pixel values range\n",
            "          from 0 to 255.\n",
            "        \n",
            "        **y_test**: uint8 NumPy array of digit labels (integers in range 0-9)\n",
            "          with shape `(10000,)` for the test data.\n",
            "        \n",
            "        Example:\n",
            "        \n",
            "        ```python\n",
            "        (x_train, y_train), (x_test, y_test) = keras.datasets.mnist.load_data()\n",
            "        assert x_train.shape == (60000, 28, 28)\n",
            "        assert x_test.shape == (10000, 28, 28)\n",
            "        assert y_train.shape == (60000,)\n",
            "        assert y_test.shape == (10000,)\n",
            "        ```\n",
            "        \n",
            "        License:\n",
            "          Yann LeCun and Corinna Cortes hold the copyright of MNIST dataset,\n",
            "          which is a derivative work from original NIST datasets.\n",
            "          MNIST dataset is made available under the terms of the\n",
            "          [Creative Commons Attribution-Share Alike 3.0 license.](\n",
            "          https://creativecommons.org/licenses/by-sa/3.0/)\n",
            "\n",
            "DATA\n",
            "    keras_export = functools.partial(<class 'tensorflow.python.util.tf_exp...\n",
            "\n",
            "FILE\n",
            "    /usr/local/lib/python3.7/dist-packages/keras/datasets/mnist.py\n",
            "\n",
            "\n"
          ]
        }
      ]
    },
    {
      "cell_type": "code",
      "source": [
        "(x_train, y_train), (x_test, y_test) = mnist.load_data()"
      ],
      "metadata": {
        "id": "xqsnXfa8YGdK"
      },
      "execution_count": 77,
      "outputs": []
    },
    {
      "cell_type": "code",
      "source": [
        "dir(mnist)"
      ],
      "metadata": {
        "colab": {
          "base_uri": "https://localhost:8080/"
        },
        "id": "QrRHVqm-YXgc",
        "outputId": "eabe23fe-5bad-4c59-8b92-ca07442c5869"
      },
      "execution_count": 78,
      "outputs": [
        {
          "output_type": "execute_result",
          "data": {
            "text/plain": [
              "['__builtins__',\n",
              " '__cached__',\n",
              " '__doc__',\n",
              " '__file__',\n",
              " '__loader__',\n",
              " '__name__',\n",
              " '__package__',\n",
              " '__spec__',\n",
              " 'get_file',\n",
              " 'keras_export',\n",
              " 'load_data',\n",
              " 'np']"
            ]
          },
          "metadata": {},
          "execution_count": 78
        }
      ]
    },
    {
      "cell_type": "code",
      "source": [
        "print('x_train shape: ', x_train.shape)\n",
        "print('y_train shape: ', y_train.shape)\n",
        "print('x_test shape: ', x_test.shape)\n",
        "print('y_test shape: ', y_test.shape)"
      ],
      "metadata": {
        "colab": {
          "base_uri": "https://localhost:8080/"
        },
        "id": "UNiONMylYqLA",
        "outputId": "a843f4ae-d95b-4183-ed8c-1c9afd1ae000"
      },
      "execution_count": 79,
      "outputs": [
        {
          "output_type": "stream",
          "name": "stdout",
          "text": [
            "x_train shape:  (60000, 28, 28)\n",
            "y_train shape:  (60000,)\n",
            "x_test shape:  (10000, 28, 28)\n",
            "y_test shape:  (10000,)\n"
          ]
        }
      ]
    },
    {
      "cell_type": "code",
      "source": [
        "import matplotlib.pyplot as plt\n",
        "% matplotlib inline\n",
        "import seaborn as sns"
      ],
      "metadata": {
        "id": "CjmaqNsPY3ZK"
      },
      "execution_count": 80,
      "outputs": []
    },
    {
      "cell_type": "code",
      "source": [
        "plt.gray()\n",
        "for i in range(5):\n",
        "  plt.matshow(x_train[i])"
      ],
      "metadata": {
        "colab": {
          "base_uri": "https://localhost:8080/",
          "height": 1000
        },
        "id": "HbXcfOa0Zrkp",
        "outputId": "60566246-5d14-4093-ab7a-04434b0d5124"
      },
      "execution_count": 81,
      "outputs": [
        {
          "output_type": "display_data",
          "data": {
            "text/plain": [
              "<Figure size 432x288 with 0 Axes>"
            ]
          },
          "metadata": {}
        },
        {
          "output_type": "display_data",
          "data": {
            "image/png": "[encoded data removed]",
            "text/plain": [
              "<Figure size 288x288 with 1 Axes>"
            ]
          },
          "metadata": {
            "needs_background": "light"
          }
        },
        {
          "output_type": "display_data",
          "data": {
            "image/png": "[encoded data removed]",
            "text/plain": [
              "<Figure size 288x288 with 1 Axes>"
            ]
          },
          "metadata": {
            "needs_background": "light"
          }
        },
        {
          "output_type": "display_data",
          "data": {
            "image/png": "[encoded data removed]",
            "text/plain": [
              "<Figure size 288x288 with 1 Axes>"
            ]
          },
          "metadata": {
            "needs_background": "light"
          }
        },
        {
          "output_type": "display_data",
          "data": {
            "image/png": "[encoded data removed]",
            "text/plain": [
              "<Figure size 288x288 with 1 Axes>"
            ]
          },
          "metadata": {
            "needs_background": "light"
          }
        },
        {
          "output_type": "display_data",
          "data": {
            "image/png": "[encoded data removed]",
            "text/plain": [
              "<Figure size 288x288 with 1 Axes>"
            ]
          },
          "metadata": {
            "needs_background": "light"
          }
        }
      ]
    },
    {
      "cell_type": "code",
      "source": [
        "# Reshape dataset to have a single channel\n",
        "import keras.backend as k\n",
        "img_rows, img_cols = 28, 28\n",
        "\n",
        "if k.image_data_format() == 'channels_first':\n",
        "  x_train = x_train.reshape(x_train.shape[0], 1, img_rows, img_cols)\n",
        "  x_test = x_test.reshape(x_test.shape[0], 1, img_rows, img_cols)\n",
        "  inp_shape = (1, img_rows, img_cols)\n",
        "else:\n",
        "  x_train = x_train.reshape(x_train.shape[0], img_rows, img_cols, 1)\n",
        "  x_test = x_test.reshape(x_test.shape[0], img_rows, img_cols, 1)\n",
        "  inp_shape = (img_rows, img_cols, 1)"
      ],
      "metadata": {
        "id": "-6fm3QkMaUmo"
      },
      "execution_count": 82,
      "outputs": []
    },
    {
      "cell_type": "code",
      "source": [
        "print(x_train.shape, x_test.shape)"
      ],
      "metadata": {
        "colab": {
          "base_uri": "https://localhost:8080/"
        },
        "id": "_0UphjyPcA5W",
        "outputId": "f5b9f99c-d7bb-48cd-b36a-e84a9e3f22a0"
      },
      "execution_count": 83,
      "outputs": [
        {
          "output_type": "stream",
          "name": "stdout",
          "text": [
            "(60000, 28, 28, 1) (10000, 28, 28, 1)\n"
          ]
        }
      ]
    },
    {
      "cell_type": "code",
      "source": [
        "print(inp_shape)"
      ],
      "metadata": {
        "colab": {
          "base_uri": "https://localhost:8080/"
        },
        "id": "PGtAo1LrdtrC",
        "outputId": "fddb0ff1-cf11-471a-c56d-1ac30ed10193"
      },
      "execution_count": 84,
      "outputs": [
        {
          "output_type": "stream",
          "name": "stdout",
          "text": [
            "(28, 28, 1)\n"
          ]
        }
      ]
    },
    {
      "cell_type": "code",
      "source": [
        "x_train.dtype"
      ],
      "metadata": {
        "colab": {
          "base_uri": "https://localhost:8080/"
        },
        "id": "fnw9FfVGdy-7",
        "outputId": "e95c677d-30e8-4b00-fbde-19970d5614d2"
      },
      "execution_count": 85,
      "outputs": [
        {
          "output_type": "execute_result",
          "data": {
            "text/plain": [
              "dtype('uint8')"
            ]
          },
          "metadata": {},
          "execution_count": 85
        }
      ]
    },
    {
      "cell_type": "code",
      "source": [
        "# convert to float\n",
        "x_train = x_train.astype('float32')\n",
        "x_test = x_test.astype('float32')\n",
        "\n",
        "# scaling\n",
        "x_train = x_train/255\n",
        "x_test = x_test/255"
      ],
      "metadata": {
        "id": "owFP4Sjcd9Qn"
      },
      "execution_count": 86,
      "outputs": []
    },
    {
      "cell_type": "code",
      "source": [
        "y_train.shape"
      ],
      "metadata": {
        "colab": {
          "base_uri": "https://localhost:8080/"
        },
        "id": "I-XZsk4iup8c",
        "outputId": "b41e6184-f13f-4d0a-9dcf-44f213e0a5cc"
      },
      "execution_count": 87,
      "outputs": [
        {
          "output_type": "execute_result",
          "data": {
            "text/plain": [
              "(60000,)"
            ]
          },
          "metadata": {},
          "execution_count": 87
        }
      ]
    },
    {
      "cell_type": "code",
      "source": [
        "import numpy as np\n",
        "\n",
        "np.unique(y_train)"
      ],
      "metadata": {
        "colab": {
          "base_uri": "https://localhost:8080/"
        },
        "id": "swburp-NhYix",
        "outputId": "438a85dd-81dd-405d-9f1c-835451436da9"
      },
      "execution_count": 88,
      "outputs": [
        {
          "output_type": "execute_result",
          "data": {
            "text/plain": [
              "array([0, 1, 2, 3, 4, 5, 6, 7, 8, 9], dtype=uint8)"
            ]
          },
          "metadata": {},
          "execution_count": 88
        }
      ]
    },
    {
      "cell_type": "code",
      "source": [
        "import pandas as pd\n",
        "\n",
        "y_train = pd.get_dummies(y_train).values\n",
        "y_test = pd.get_dummies(y_test).values"
      ],
      "metadata": {
        "id": "Xz3FHud1uyMM"
      },
      "execution_count": 89,
      "outputs": []
    },
    {
      "cell_type": "code",
      "source": [
        "print(y_train.shape, y_test.shape)"
      ],
      "metadata": {
        "colab": {
          "base_uri": "https://localhost:8080/"
        },
        "id": "FPUsgzz-vuyK",
        "outputId": "6c5f062b-b324-4628-d5b6-8ae550e1b802"
      },
      "execution_count": 90,
      "outputs": [
        {
          "output_type": "stream",
          "name": "stdout",
          "text": [
            "(60000, 10) (10000, 10)\n"
          ]
        }
      ]
    },
    {
      "cell_type": "code",
      "source": [
        "from keras.models import Sequential\n",
        "from keras.layers import Conv2D\n",
        "from keras.layers import MaxPooling2D\n",
        "from keras.layers import Flatten\n",
        "from keras.layers import Dense\n",
        "from keras.layers import Dropout\n",
        "\n",
        "model = Sequential()\n",
        "\n",
        "model.add(Conv2D(filters=32, kernel_size=(3,3), activation='relu', input_shape=inp_shape))\n",
        "model.add(MaxPooling2D(pool_size=(2,2)))\n",
        "model.add(Conv2D(filters=64, kernel_size=(3,3), activation='relu'))\n",
        "model.add(MaxPooling2D(pool_size=(2,2)))\n",
        "model.add(Dropout(0.1))\n",
        "model.add(Flatten())\n",
        "model.add(Dense(units=256, activation='sigmoid'))\n",
        "model.add(Dense(10, activation='softmax'))"
      ],
      "metadata": {
        "id": "n6E46R45lu7N"
      },
      "execution_count": 94,
      "outputs": []
    },
    {
      "cell_type": "code",
      "source": [
        "model.compile(optimizer='adam', loss='categorical_crossentropy', metrics=['accuracy'])"
      ],
      "metadata": {
        "id": "D7Mk4hLwm6NF"
      },
      "execution_count": 95,
      "outputs": []
    },
    {
      "cell_type": "code",
      "source": [
        "model.fit(x_train, y_train, epochs=10, batch_size=500)"
      ],
      "metadata": {
        "colab": {
          "base_uri": "https://localhost:8080/"
        },
        "id": "yT7qT2u9tDsm",
        "outputId": "c73bf99b-487c-4fef-99cc-303ff521a251"
      },
      "execution_count": 96,
      "outputs": [
        {
          "output_type": "stream",
          "name": "stdout",
          "text": [
            "Epoch 1/10\n",
            "120/120 [==============================] - 39s 317ms/step - loss: 0.5811 - accuracy: 0.8322\n",
            "Epoch 2/10\n",
            "120/120 [==============================] - 38s 316ms/step - loss: 0.1244 - accuracy: 0.9639\n",
            "Epoch 3/10\n",
            "120/120 [==============================] - 38s 315ms/step - loss: 0.0866 - accuracy: 0.9751\n",
            "Epoch 4/10\n",
            "120/120 [==============================] - 38s 315ms/step - loss: 0.0685 - accuracy: 0.9801\n",
            "Epoch 5/10\n",
            "120/120 [==============================] - 38s 315ms/step - loss: 0.0553 - accuracy: 0.9843\n",
            "Epoch 6/10\n",
            "120/120 [==============================] - 38s 315ms/step - loss: 0.0471 - accuracy: 0.9864\n",
            "Epoch 7/10\n",
            "120/120 [==============================] - 38s 315ms/step - loss: 0.0403 - accuracy: 0.9887\n",
            "Epoch 8/10\n",
            "120/120 [==============================] - 38s 315ms/step - loss: 0.0365 - accuracy: 0.9896\n",
            "Epoch 9/10\n",
            "120/120 [==============================] - 38s 314ms/step - loss: 0.0313 - accuracy: 0.9911\n",
            "Epoch 10/10\n",
            "120/120 [==============================] - 38s 315ms/step - loss: 0.0293 - accuracy: 0.9917\n"
          ]
        },
        {
          "output_type": "execute_result",
          "data": {
            "text/plain": [
              "<keras.callbacks.History at 0x7f5a8f45fdd0>"
            ]
          },
          "metadata": {},
          "execution_count": 96
        }
      ]
    },
    {
      "cell_type": "code",
      "source": [
        "score = model.evaluate(x_test, y_test, verbose=1)"
      ],
      "metadata": {
        "colab": {
          "base_uri": "https://localhost:8080/"
        },
        "id": "JqbE4A-Nttkr",
        "outputId": "0af14b9d-e9ca-4674-972d-3dab82c03699"
      },
      "execution_count": 97,
      "outputs": [
        {
          "output_type": "stream",
          "name": "stdout",
          "text": [
            "313/313 [==============================] - 3s 8ms/step - loss: 0.0314 - accuracy: 0.9901\n"
          ]
        }
      ]
    },
    {
      "cell_type": "code",
      "source": [
        "print('test loss: ', score[0])\n",
        "print('test accuracy: ', score[1])"
      ],
      "metadata": {
        "colab": {
          "base_uri": "https://localhost:8080/"
        },
        "id": "fZ2bVa7wyBxI",
        "outputId": "479a1c95-44c4-4b4e-e869-ee499aaec862"
      },
      "execution_count": 98,
      "outputs": [
        {
          "output_type": "stream",
          "name": "stdout",
          "text": [
            "test loss:  0.03142497316002846\n",
            "test accuracy:  0.9901000261306763\n"
          ]
        }
      ]
    },
    {
      "cell_type": "code",
      "source": [
        "y_pred = model.predict(x_test)"
      ],
      "metadata": {
        "id": "_EOcD19DyLvo"
      },
      "execution_count": 99,
      "outputs": []
    },
    {
      "cell_type": "code",
      "source": [
        "y_pred[0]"
      ],
      "metadata": {
        "colab": {
          "base_uri": "https://localhost:8080/"
        },
        "id": "7NDUxW1hycR7",
        "outputId": "7a67c4ca-a301-4fd5-e49a-ec8b7302ce6a"
      },
      "execution_count": 100,
      "outputs": [
        {
          "output_type": "execute_result",
          "data": {
            "text/plain": [
              "array([1.5739915e-06, 2.2989378e-05, 2.3281251e-05, 1.6623260e-05,\n",
              "       2.6379831e-07, 3.6190517e-07, 2.9622649e-08, 9.9991393e-01,\n",
              "       6.5583328e-07, 2.0356800e-05], dtype=float32)"
            ]
          },
          "metadata": {},
          "execution_count": 100
        }
      ]
    },
    {
      "cell_type": "code",
      "source": [
        "np.argmax(y_pred[0])"
      ],
      "metadata": {
        "colab": {
          "base_uri": "https://localhost:8080/"
        },
        "id": "LDiPLn5yyfbr",
        "outputId": "e3042732-9a0c-4d7f-c4ce-e10f5d6261b8"
      },
      "execution_count": 101,
      "outputs": [
        {
          "output_type": "execute_result",
          "data": {
            "text/plain": [
              "7"
            ]
          },
          "metadata": {},
          "execution_count": 101
        }
      ]
    },
    {
      "cell_type": "code",
      "source": [
        "np.argmax(y_test[0])"
      ],
      "metadata": {
        "colab": {
          "base_uri": "https://localhost:8080/"
        },
        "id": "sRvSiOeHyjDe",
        "outputId": "4de4ec70-ec44-4efa-cb4c-0d2cfd1d3c4b"
      },
      "execution_count": 102,
      "outputs": [
        {
          "output_type": "execute_result",
          "data": {
            "text/plain": [
              "7"
            ]
          },
          "metadata": {},
          "execution_count": 102
        }
      ]
    },
    {
      "cell_type": "code",
      "source": [
        "plt.gray()\n",
        "plt.matshow(x_test[0].reshape(28,28))"
      ],
      "metadata": {
        "colab": {
          "base_uri": "https://localhost:8080/",
          "height": 310
        },
        "id": "9AQUi_3rylte",
        "outputId": "5c184f60-8f23-4da3-db9e-8ba578b063ad"
      },
      "execution_count": 104,
      "outputs": [
        {
          "output_type": "execute_result",
          "data": {
            "text/plain": [
              "<matplotlib.image.AxesImage at 0x7f5a8f4b3cd0>"
            ]
          },
          "metadata": {},
          "execution_count": 104
        },
        {
          "output_type": "display_data",
          "data": {
            "text/plain": [
              "<Figure size 432x288 with 0 Axes>"
            ]
          },
          "metadata": {}
        },
        {
          "output_type": "display_data",
          "data": {
            "image/png": "[encoded data removed]",
            "text/plain": [
              "<Figure size 288x288 with 1 Axes>"
            ]
          },
          "metadata": {
            "needs_background": "light"
          }
        }
      ]
    },
    {
      "cell_type": "code",
      "source": [
        "from sklearn.metrics import confusion_matrix\n",
        "y_test_max = np.argmax(y_test, axis=1)\n",
        "y_pred_max = np.argmax(y_pred, axis=1)\n",
        "cm = confusion_matrix(y_test_max, y_pred_max)\n",
        "print(cm)"
      ],
      "metadata": {
        "colab": {
          "base_uri": "https://localhost:8080/"
        },
        "id": "21HBaFCByxFq",
        "outputId": "f11423f0-bc7e-4727-dfcf-43a0a7340ee2"
      },
      "execution_count": 107,
      "outputs": [
        {
          "output_type": "stream",
          "name": "stdout",
          "text": [
            "[[ 974    1    1    0    0    0    1    2    1    0]\n",
            " [   0 1132    1    0    0    0    1    1    0    0]\n",
            " [   2    2 1022    0    1    0    0    5    0    0]\n",
            " [   0    0    2 1003    0    3    0    0    2    0]\n",
            " [   0    0    1    1  976    0    0    0    0    4]\n",
            " [   2    0    0    4    0  882    1    1    0    2]\n",
            " [   4    2    0    0    2    5  945    0    0    0]\n",
            " [   0    3    6    2    0    0    0 1014    1    2]\n",
            " [   5    0    2    2    1    3    0    2  955    4]\n",
            " [   1    2    1    1    4    1    0    1    0  998]]\n"
          ]
        }
      ]
    },
    {
      "cell_type": "code",
      "source": [
        "plt.figure(figsize=(12,5))\n",
        "sns.heatmap(cm, annot=True)"
      ],
      "metadata": {
        "colab": {
          "base_uri": "https://localhost:8080/",
          "height": 337
        },
        "id": "I_ARVzfdy99d",
        "outputId": "f674cf31-3425-4ac7-d8e9-fad277e92636"
      },
      "execution_count": 113,
      "outputs": [
        {
          "output_type": "execute_result",
          "data": {
            "text/plain": [
              "<matplotlib.axes._subplots.AxesSubplot at 0x7f5a8c60cd10>"
            ]
          },
          "metadata": {},
          "execution_count": 113
        },
        {
          "output_type": "display_data",
          "data": {
            "image/png": "[encoded data removed]",
            "text/plain": [
              "<Figure size 864x360 with 2 Axes>"
            ]
          },
          "metadata": {
            "needs_background": "light"
          }
        }
      ]
    },
    {
      "cell_type": "code",
      "source": [
        "from sklearn.metrics import classification_report\n",
        "report = classification_report(y_test_max, y_pred_max)\n",
        "print(report)"
      ],
      "metadata": {
        "colab": {
          "base_uri": "https://localhost:8080/"
        },
        "id": "ZKrGMqIgzdi6",
        "outputId": "f8007886-de83-432d-ea7e-66c7025313ae"
      },
      "execution_count": 117,
      "outputs": [
        {
          "output_type": "stream",
          "name": "stdout",
          "text": [
            "              precision    recall  f1-score   support\n",
            "\n",
            "           0       0.99      0.99      0.99       980\n",
            "           1       0.99      1.00      0.99      1135\n",
            "           2       0.99      0.99      0.99      1032\n",
            "           3       0.99      0.99      0.99      1010\n",
            "           4       0.99      0.99      0.99       982\n",
            "           5       0.99      0.99      0.99       892\n",
            "           6       1.00      0.99      0.99       958\n",
            "           7       0.99      0.99      0.99      1028\n",
            "           8       1.00      0.98      0.99       974\n",
            "           9       0.99      0.99      0.99      1009\n",
            "\n",
            "    accuracy                           0.99     10000\n",
            "   macro avg       0.99      0.99      0.99     10000\n",
            "weighted avg       0.99      0.99      0.99     10000\n",
            "\n"
          ]
        }
      ]
    },
    {
      "cell_type": "code",
      "source": [
        ""
      ],
      "metadata": {
        "id": "L_JeLon_z2ym"
      },
      "execution_count": null,
      "outputs": []
    }
  ]
}